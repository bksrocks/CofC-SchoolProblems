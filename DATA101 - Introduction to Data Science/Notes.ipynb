{
 "cells": [
  {
   "cell_type": "markdown",
   "metadata": {},
   "source": [
    "<h3> 09 - 21 </h3>"
   ]
  },
  {
   "cell_type": "code",
   "execution_count": null,
   "metadata": {
    "collapsed": true,
    "jupyter": {
     "outputs_hidden": true
    }
   },
   "outputs": [],
   "source": [
    "num = 839\n",
    "count = 0\n",
    "while (num > 0):\n",
    "    num = num // 10\n",
    "    count += 1\n",
    "print(\"Total digits are: \", count)"
   ]
  },
  {
   "cell_type": "code",
   "execution_count": null,
   "metadata": {
    "collapsed": true,
    "jupyter": {
     "outputs_hidden": true
    }
   },
   "outputs": [],
   "source": [
    "list = ['Anna', 'Mary', 'John', 'Joseph']\n",
    "for name in list:\n",
    "    print(\"Happy birthday {}\".format(name))"
   ]
  },
  {
   "cell_type": "code",
   "execution_count": null,
   "metadata": {
    "collapsed": true,
    "jupyter": {
     "outputs_hidden": true
    }
   },
   "outputs": [],
   "source": [
    "# range(start, stop, step)\n",
    "\n",
    "lists = [[0,1,3], [2,3]]\n",
    "\n",
    "for i in range(len(lists)):\n",
    "    x = len(lists[i])\n",
    "    for j in range(0, x):\n",
    "        print (lists[i][j], end=\" \")\n",
    "    print()"
   ]
  },
  {
   "cell_type": "code",
   "execution_count": null,
   "metadata": {
    "collapsed": true,
    "jupyter": {
     "outputs_hidden": true
    }
   },
   "outputs": [],
   "source": [
    "list = [[0,1,2,3,4,5], [1,2,3,4,5,6,7]]\n",
    "print(len(list[0]))"
   ]
  },
  {
   "cell_type": "code",
   "execution_count": null,
   "metadata": {
    "collapsed": true,
    "jupyter": {
     "outputs_hidden": true
    }
   },
   "outputs": [],
   "source": [
    "squares = [element ** 2 for element in range(10)]\n",
    "print(squares)\n",
    "new_counts = [number + 10 for number in squares]\n",
    "print(new_counts)"
   ]
  },
  {
   "cell_type": "markdown",
   "metadata": {},
   "source": [
    "<h3> 09 - 23 </h3>"
   ]
  },
  {
   "cell_type": "code",
   "execution_count": null,
   "metadata": {
    "collapsed": true,
    "jupyter": {
     "outputs_hidden": true
    }
   },
   "outputs": [],
   "source": [
    "x = (i for i in range(10))\n",
    "print(x)"
   ]
  },
  {
   "cell_type": "raw",
   "metadata": {},
   "source": [
    "zip() : combine lists"
   ]
  },
  {
   "cell_type": "code",
   "execution_count": null,
   "metadata": {
    "collapsed": true,
    "jupyter": {
     "outputs_hidden": true
    }
   },
   "outputs": [],
   "source": [
    "list1 = [1,2,3,4]\n",
    "list2 = ['a','b','c','d']\n",
    "list3 = []\n",
    "zipped_lists = zip(list1, list2, list3)\n",
    "for item1, item2, item3 in zipped_lists:\n",
    "    print (item1, item2, item3)"
   ]
  },
  {
   "cell_type": "raw",
   "metadata": {},
   "source": [
    "enumerate() : zips an index list to an existing list"
   ]
  },
  {
   "cell_type": "code",
   "execution_count": null,
   "metadata": {
    "collapsed": true,
    "jupyter": {
     "outputs_hidden": true
    }
   },
   "outputs": [],
   "source": [
    "x = [x,y,z]\n",
    "for index, element in enumerate(x):\n",
    "    print (index, element)"
   ]
  },
  {
   "cell_type": "markdown",
   "metadata": {},
   "source": [
    "<h3> 09 - 25 </h3>"
   ]
  },
  {
   "cell_type": "code",
   "execution_count": null,
   "metadata": {
    "collapsed": true,
    "jupyter": {
     "outputs_hidden": true
    }
   },
   "outputs": [],
   "source": [
    "for i in range(1,5):\n",
    "    for j in range(i):\n",
    "        print(i, end =' ')\n",
    "    print()"
   ]
  },
  {
   "cell_type": "code",
   "execution_count": null,
   "metadata": {
    "collapsed": true,
    "jupyter": {
     "outputs_hidden": true
    }
   },
   "outputs": [],
   "source": [
    "n = eval(input('Enter a number from 2 to 10: '))\n",
    "for i in range (n):\n",
    "    for j in range(i):\n",
    "        print('*', end =' ')\n",
    "    print(' ')\n",
    "for i in range (n,0,-1):\n",
    "    for j in range(i):\n",
    "        print('*', end =' ')\n",
    "    print(' ')"
   ]
  },
  {
   "cell_type": "markdown",
   "metadata": {},
   "source": [
    "<h3> 09 - 28 </h3>"
   ]
  },
  {
   "cell_type": "code",
   "execution_count": null,
   "metadata": {
    "collapsed": true,
    "jupyter": {
     "outputs_hidden": true
    }
   },
   "outputs": [],
   "source": [
    "from turtle import *\n",
    "\n",
    "forward(100)\n",
    "left(120)\n",
    "forward(100)\n",
    "left(120)\n",
    "forward(100)\n",
    "left(120)\n",
    "\n",
    "done()"
   ]
  },
  {
   "cell_type": "code",
   "execution_count": null,
   "metadata": {
    "collapsed": true,
    "jupyter": {
     "outputs_hidden": true
    }
   },
   "outputs": [],
   "source": [
    "from turtle import *\n",
    "\n",
    "forward(100)\n",
    "left(90)\n",
    "forward(100)\n",
    "left(90)\n",
    "forward(100)\n",
    "left(90)\n",
    "forward(100)\n",
    "left(90)\n",
    "\n",
    "done()"
   ]
  },
  {
   "cell_type": "code",
   "execution_count": null,
   "metadata": {
    "collapsed": true,
    "jupyter": {
     "outputs_hidden": true
    }
   },
   "outputs": [],
   "source": [
    "from turtle import *\n",
    "\n",
    "for i in range(4):\n",
    "    forward(100)\n",
    "    left(90)\n",
    "    \n",
    "done()"
   ]
  },
  {
   "cell_type": "code",
   "execution_count": null,
   "metadata": {
    "collapsed": true,
    "jupyter": {
     "outputs_hidden": true
    }
   },
   "outputs": [],
   "source": [
    "from turtle import *\n",
    "\n",
    "sides = eval(input(\"Enter the number of sides on your polygon: \"))\n",
    "degrees = 360 / sides\n",
    "\n",
    "for side in range(sides):\n",
    "    forward(100)\n",
    "    left(degrees)\n",
    "    \n",
    "done()"
   ]
  },
  {
   "cell_type": "code",
   "execution_count": null,
   "metadata": {
    "collapsed": true,
    "jupyter": {
     "outputs_hidden": true
    }
   },
   "outputs": [],
   "source": [
    "from turtle import *\n",
    "\n",
    "number_polygons = eval(input(\"Enter the number of polygons to be drawn: \"))\n",
    "sides = eval(input(\"Enter the number of sides on your polygon: \"))\n",
    "degrees = 360 / sides\n",
    "\n",
    "for polygon in range(number_polygons):\n",
    "    for side in range(sides):\n",
    "        forward(50)\n",
    "        left(degrees)\n",
    "    penup()\n",
    "    forward(70)\n",
    "    pendown()\n",
    "penup()\n",
    "backward(70*number_polygons)\n",
    "pendown()\n",
    "    \n",
    "done()"
   ]
  },
  {
   "cell_type": "code",
   "execution_count": null,
   "metadata": {
    "collapsed": true,
    "jupyter": {
     "outputs_hidden": true
    }
   },
   "outputs": [],
   "source": [
    "from turtle import *\n",
    "\n",
    "number_rows = eval(input(\"Enter the number of rows to be drawn: \"))\n",
    "number_polygons = eval(input(\"Enter the number of polygons in each row: \"))\n",
    "sides = eval(input(\"Enter the number of sides on your polygon: \"))\n",
    "degrees = 360 / sides\n",
    "\n",
    "for rows in range(number_rows):\n",
    "    for polygon in range(number_polygons):\n",
    "        for side in range(sides):\n",
    "            forward(50)\n",
    "            left(degrees)\n",
    "        penup()\n",
    "        forward(70)\n",
    "        pendown()\n",
    "    penup()\n",
    "    backward(70*number_polygons)\n",
    "    right(90)\n",
    "    forward(70)\n",
    "    left(90)\n",
    "    pendown()\n",
    "done()"
   ]
  },
  {
   "cell_type": "markdown",
   "metadata": {},
   "source": [
    "<h3>09-30</h3"
   ]
  },
  {
   "cell_type": "code",
   "execution_count": null,
   "metadata": {
    "collapsed": true,
    "jupyter": {
     "outputs_hidden": true
    }
   },
   "outputs": [],
   "source": [
    "x = 5\n",
    "if x > 5:\n",
    "    print(\"How did this happen?!\")\n",
    "if x == 5 :\n",
    "    print(\"Working as intended.\")"
   ]
  },
  {
   "cell_type": "code",
   "execution_count": null,
   "metadata": {
    "collapsed": true,
    "jupyter": {
     "outputs_hidden": true
    }
   },
   "outputs": [],
   "source": [
    "x = 6\n",
    "if x < 5:\n",
    "    print(\"How did this happen?!\")\n",
    "else:\n",
    "    print(\"Correct.\")"
   ]
  },
  {
   "cell_type": "code",
   "execution_count": null,
   "metadata": {
    "collapsed": true,
    "jupyter": {
     "outputs_hidden": true
    }
   },
   "outputs": [],
   "source": [
    "x = [51, 65, 56, 19, 11, 49, 81, 59, 45, 73]\n",
    "max_val = 0\n",
    "\n",
    "for element in x:\n",
    "    if max_val < element:\n",
    "        max_val = element\n",
    "\n",
    "print(\"The maximum element is: {}\".format(max_val))"
   ]
  },
  {
   "cell_type": "code",
   "execution_count": null,
   "metadata": {
    "collapsed": true,
    "jupyter": {
     "outputs_hidden": true
    }
   },
   "outputs": [],
   "source": [
    "student_grades = {\n",
    "    'Jen': 82,\n",
    "    'Shannon': 75,\n",
    "    'Natasha': 94,\n",
    "    'Benjamin': 48,  \n",
    "}\n",
    "for student, grade in student_grades.items():\n",
    "    if grade >= 90:\n",
    "        letter = \"A\"\n",
    "    elif grade >= 80:\n",
    "        letter = \"B\"\n",
    "    elif grade >= 70:\n",
    "        letter = \"C\"\n",
    "    elif grade >= 60:\n",
    "        letter = \"D\"\n",
    "    else:\n",
    "        letter = \"F\"\n",
    "    print(student, letter)"
   ]
  },
  {
   "cell_type": "markdown",
   "metadata": {},
   "source": [
    "<h3>10 - 02</h3>"
   ]
  },
  {
   "cell_type": "markdown",
   "metadata": {},
   "source": [
    "<b>and</b>: all conditions are true <br>\n",
    "<b>or</b>: one or more condition to be true"
   ]
  },
  {
   "cell_type": "code",
   "execution_count": null,
   "metadata": {
    "collapsed": true,
    "jupyter": {
     "outputs_hidden": true
    }
   },
   "outputs": [],
   "source": [
    "x = [51, 65, 56, 19, 11, 49, 81, 59, 45, 73]\n",
    "max_val = 81\n",
    "second_largest = 0\n",
    "for number in x:\n",
    "    if second_largest < max_val and number < max_val:\n",
    "        second_largest = number\n",
    "print(\"The second largest number is: {}\" .format(second_largest))"
   ]
  },
  {
   "cell_type": "code",
   "execution_count": null,
   "metadata": {
    "collapsed": true,
    "jupyter": {
     "outputs_hidden": true
    }
   },
   "outputs": [],
   "source": [
    "x = [51, 65, 56, 19, 11, 49, 81, 59, 45, 73]\n",
    "max_val = 81\n",
    "second_largest = 0\n",
    "for number in x:\n",
    "    if second_largest < max_val:\n",
    "        if number < max_val:\n",
    "            second_largest = number\n",
    "print(\"The second largest number is: {}\" .format(second_largest))"
   ]
  },
  {
   "cell_type": "markdown",
   "metadata": {},
   "source": [
    "<b>not</b>: is it not there? <br>\n",
    "<b>in</b>: is it there?"
   ]
  },
  {
   "cell_type": "code",
   "execution_count": null,
   "metadata": {
    "collapsed": true,
    "jupyter": {
     "outputs_hidden": true
    }
   },
   "outputs": [],
   "source": [
    "list_of_numbers = [i for i in range(10)]\n",
    "lucky_number = eval(input(\"Enter your lucky number: \"))\n",
    "if lucky_number not in list_of_numbers:\n",
    "    print(\"Boo! Lucky number not in the list!\")\n",
    "if lucky_number in list_of_numbers:\n",
    "    print(\"You're in luck! Your number is in!\")\n",
    "print(list_of_numbers)"
   ]
  },
  {
   "cell_type": "code",
   "execution_count": null,
   "metadata": {
    "collapsed": true,
    "jupyter": {
     "outputs_hidden": true
    }
   },
   "outputs": [],
   "source": [
    "noh = 25\n",
    "noa = eval(input(\"Enter the number of classes attended: \"))\n",
    "percentage = noa/noh\n",
    "print(\"Studet atttended {}% percent of classes\" .format(percentage*100))\n",
    "if percentage > 0.65:\n",
    "    print(\"May take final exam.\")\n",
    "else: \n",
    "    print(\"Not allowed in final exam.\")"
   ]
  },
  {
   "cell_type": "code",
   "execution_count": null,
   "metadata": {
    "collapsed": true,
    "jupyter": {
     "outputs_hidden": true
    }
   },
   "outputs": [],
   "source": [
    "noh = 25\n",
    "noa = eval(input(\"Enter the number of classes attended: \"))\n",
    "medicaldoc = eval(input(\"Medical documentation? (1 = Yes / 0 = No)\"))\n",
    "percentage = noa/noh\n",
    "print(\"Studet atttended {}% percent of classes\" .format(percentage*100))\n",
    "if percentage > 0.65:\n",
    "    print(\"May take final exam.\")\n",
    "elif medicaldoc == 1:\n",
    "    print(\"May take final exam, because of medical document.\")\n",
    "else:\n",
    "    print(\"Not allowed in final exam.\")   "
   ]
  },
  {
   "cell_type": "markdown",
   "metadata": {},
   "source": [
    "<h3>10 - 05</h3>"
   ]
  },
  {
   "cell_type": "markdown",
   "metadata": {},
   "source": [
    "TypeError: trying to use a variable for a different function that it is intended\n",
    "KeyError: \n",
    "IndexError: trying to index a number beyond range\n",
    "NameError: when a variable is used before being created/assigned"
   ]
  },
  {
   "cell_type": "markdown",
   "metadata": {},
   "source": [
    "\"try\" = holds the part of the code that might produce an exception (error)\n",
    "\"except\" = what will happen if there is an exception (error)"
   ]
  },
  {
   "cell_type": "code",
   "execution_count": null,
   "metadata": {
    "collapsed": true,
    "jupyter": {
     "outputs_hidden": true
    }
   },
   "outputs": [],
   "source": [
    "try:\n",
    "    print(variable_that_doesnt_exist)\n",
    "except:\n",
    "    print(\"An error ocurred!\")\n",
    "\n",
    "print(\"Am I getting to this point?\")"
   ]
  },
  {
   "cell_type": "code",
   "execution_count": 3,
   "metadata": {
    "collapsed": true,
    "jupyter": {
     "outputs_hidden": true
    }
   },
   "outputs": [
    {
     "name": "stdin",
     "output_type": "stream",
     "text": [
      "Enter your answer (y/n):  w\n"
     ]
    },
    {
     "name": "stdout",
     "output_type": "stream",
     "text": [
      "Wrong answer\n"
     ]
    }
   ],
   "source": [
    "answer = input(\"Enter your answer (y/n): \")\n",
    "\n",
    "try:\n",
    "    if answer == 'y'or answer == 'Y':\n",
    "        print(\"The answer is yes!\")\n",
    "    elif answer == 'n'or answer == 'N':\n",
    "        print(\"The answer is no.\")\n",
    "    else:\n",
    "#         raise SyntaxError(\"Answer doesn't suffice.\")\n",
    "        raise Exception\n",
    "except:\n",
    "    print(\"Wrong answer\")"
   ]
  },
  {
   "cell_type": "code",
   "execution_count": null,
   "metadata": {
    "collapsed": true,
    "jupyter": {
     "outputs_hidden": true
    }
   },
   "outputs": [],
   "source": [
    "def divide(x,y):\n",
    "    result = x/y\n",
    "    return result\n",
    "print(divide(2,3))"
   ]
  },
  {
   "cell_type": "code",
   "execution_count": null,
   "metadata": {
    "collapsed": true,
    "jupyter": {
     "outputs_hidden": true
    }
   },
   "outputs": [],
   "source": [
    "def divide_safe(x,y):\n",
    "    quotient = 0\n",
    "    try:\n",
    "        quotient = x/y\n",
    "    except ZeroDivisionError:\n",
    "            print(\"You tried to divide by zero. Why would you do that?\")\n",
    "    return quotient\n",
    "\n",
    "print(divide_safe(2,0))"
   ]
  },
  {
   "cell_type": "code",
   "execution_count": null,
   "metadata": {
    "collapsed": true,
    "jupyter": {
     "outputs_hidden": true
    }
   },
   "outputs": [],
   "source": [
    "import random\n",
    "num = random.randint(0,1)\n",
    "\n",
    "try:\n",
    "    #code that might generate error\n",
    "    pass\n",
    "except NameError:\n",
    "    print(\"Caught a NameError!\")\n",
    "except ValueError:\n",
    "    print(\"Nope, it was actually a ValueError.\")"
   ]
  },
  {
   "cell_type": "code",
   "execution_count": null,
   "metadata": {
    "collapsed": true,
    "jupyter": {
     "outputs_hidden": true
    }
   },
   "outputs": [],
   "source": [
    "import random\n",
    "num = random.randint(0,1)\n",
    "\n",
    "try:\n",
    "    #code that might generate error\n",
    "    pass\n",
    "except (NameError, ValueError):\n",
    "    print(\"You got an error. Does not specify which.\")"
   ]
  },
  {
   "cell_type": "code",
   "execution_count": null,
   "metadata": {
    "collapsed": true,
    "jupyter": {
     "outputs_hidden": true
    }
   },
   "outputs": [],
   "source": [
    "import random\n",
    "num = random.randint(0,1)\n",
    "\n",
    "try:\n",
    "    if num == 1:\n",
    "        raise NameError(\"This happens when you use a variable you haven't defined\")\n",
    "    else:\n",
    "        raise ValueError(\"This happens if you try to multiply a string.\")\n",
    "except NameError:\n",
    "    print(\"Caught a NameError!\")\n",
    "except ValueError:\n",
    "    print(\"Nope, it was actually a ValueError.\")"
   ]
  },
  {
   "cell_type": "code",
   "execution_count": null,
   "metadata": {
    "collapsed": true,
    "jupyter": {
     "outputs_hidden": true
    }
   },
   "outputs": [],
   "source": [
    "import random\n",
    "num = random.randint(0,1)\n",
    "\n",
    "try:\n",
    "    if num == 1:\n",
    "        raise NameError(\"This happens when you use a variable you haven't defined\")\n",
    "    else:\n",
    "        raise ValueError(\"This happens if you try to multiply a string.\")\n",
    "except (NameError, ValueError):\n",
    "    print(\"You got an error. Does not specify which.\")"
   ]
  },
  {
   "cell_type": "code",
   "execution_count": null,
   "metadata": {
    "collapsed": true,
    "jupyter": {
     "outputs_hidden": true
    }
   },
   "outputs": [],
   "source": [
    "import random\n",
    "num = random.randint(0,1)\n",
    "\n",
    "try:\n",
    "    if num == 1:\n",
    "        raise NameError(\"This happens when you use a variable you haven't defined\")\n",
    "    else:\n",
    "        raise ValueError(\"This happens if you try to multiply a string.\")\n",
    "except:\n",
    "    print(\"You got an error.\")"
   ]
  },
  {
   "cell_type": "code",
   "execution_count": null,
   "metadata": {
    "collapsed": true,
    "jupyter": {
     "outputs_hidden": true
    }
   },
   "outputs": [],
   "source": [
    "import random\n",
    "num = random.randint(0,1)\n",
    "\n",
    "try:\n",
    "    if num == 1:\n",
    "        raise NameError(\"This happens when you use a variable you haven't defined\")\n",
    "except:\n",
    "    print(\"You got an error.\")\n",
    "else:\n",
    "    print(\"Yay, lucky number!\")\n",
    "print(num)"
   ]
  },
  {
   "cell_type": "code",
   "execution_count": null,
   "metadata": {
    "collapsed": true,
    "jupyter": {
     "outputs_hidden": true
    }
   },
   "outputs": [],
   "source": [
    "import random\n",
    "num = random.randint(0,1)\n",
    "\n",
    "try:\n",
    "    if num == 1:\n",
    "        raise NameError(\"This happens when you use a variable you haven't defined\")\n",
    "except:\n",
    "    print(\"You got an error.\")\n",
    "else:\n",
    "    print(\"Yay, lucky number!\")\n",
    "finally:\n",
    "    print(\"I get printed all the time.\")\n",
    "print(num)"
   ]
  },
  {
   "cell_type": "markdown",
   "metadata": {},
   "source": [
    "<h3>10-07</h3>"
   ]
  },
  {
   "cell_type": "code",
   "execution_count": 2,
   "metadata": {
    "collapsed": true,
    "jupyter": {
     "outputs_hidden": true
    }
   },
   "outputs": [
    {
     "name": "stdout",
     "output_type": "stream",
     "text": [
      "The body of the function uses arguments and inputs to perfor a computation\n"
     ]
    }
   ],
   "source": [
    "def function_name(argument1, argument2):\n",
    "    print(\"The body of the function uses {} and {} to perfor a computation\".format(argument1, argument2))\n",
    "\n",
    "function_name(\"arguments\", \"inputs\")"
   ]
  },
  {
   "cell_type": "code",
   "execution_count": 7,
   "metadata": {
    "collapsed": true,
    "jupyter": {
     "outputs_hidden": true
    }
   },
   "outputs": [
    {
     "name": "stdin",
     "output_type": "stream",
     "text": [
      "Enter the number of times the loop should be printed: 15\n",
      "Enter the size of the steps between the loops - Enter 0 for default:  0\n"
     ]
    },
    {
     "name": "stdout",
     "output_type": "stream",
     "text": [
      "This function prints a pattern the number of times and stpe size defined by the user\n",
      "\n",
      "*\n",
      "**\n",
      "***\n",
      "****\n",
      "*****\n",
      "******\n",
      "*******\n",
      "********\n",
      "*********\n",
      "**********\n",
      "***********\n",
      "************\n",
      "*************\n",
      "**************\n"
     ]
    }
   ],
   "source": [
    "def another_function(user_range, steps = 1):\n",
    "    print(\"This function prints a pattern the number of times and stpe size defined by the user\")\n",
    "    for i in range(0, user_range, steps):\n",
    "        print(\"*\" * i)\n",
    "\n",
    "answer1 = eval(input(\"Enter the number of times the loop should be printed:\"))\n",
    "answer2 = eval(input(\"Enter the size of the steps between the loops - Enter 0 for default: \"))\n",
    "\n",
    "if answer2 == 0:\n",
    "    another_function(answer1)\n",
    "else:\n",
    "    another_function(answer1, answer2)"
   ]
  },
  {
   "cell_type": "code",
   "execution_count": 2,
   "metadata": {
    "collapsed": true,
    "jupyter": {
     "outputs_hidden": true
    }
   },
   "outputs": [
    {
     "name": "stdout",
     "output_type": "stream",
     "text": [
      "5\n",
      "-1\n",
      "6\n",
      "0.6666666666666666\n"
     ]
    }
   ],
   "source": [
    "def calculator(number1, number2, operation = '+'):\n",
    "    if operation == '+':\n",
    "        total = number1 + number2\n",
    "    elif operation == '-':\n",
    "        total = number1 - number2\n",
    "    elif operation == '*':\n",
    "        total = number1 * number2\n",
    "    elif operation == '/':\n",
    "        total = number1 / number2\n",
    "    else:\n",
    "        print(\"Invalid operation.\")\n",
    "    return total\n",
    "\n",
    "# number1, number2 = eval(input(\"Enter the two numbers to be computed, separated by comma: \"))\n",
    "# operation = input(\"What operation should be performed? \\n + for addition; - for subtraction; * for multiplication; / for division:\")\n",
    "\n",
    "# print(\"Your result is: {}\".format(calculator(number1, number2, operation)))\n",
    "\n",
    "print(calculator(2,3))\n",
    "print(calculator(2,3,'-'))\n",
    "print(calculator(2,3,'*'))\n",
    "print(calculator(2,3,'/'))"
   ]
  },
  {
   "cell_type": "code",
   "execution_count": 13,
   "metadata": {
    "collapsed": true,
    "jupyter": {
     "outputs_hidden": true
    }
   },
   "outputs": [
    {
     "name": "stdout",
     "output_type": "stream",
     "text": [
      "14\n"
     ]
    }
   ],
   "source": [
    "# Patrick's solution\n",
    "\n",
    "def calc(operation, par1, par2 ):\n",
    "    ops = ['+', '-', '*', '**', '/', '//', '%']\n",
    "    operation = str(operation)\n",
    "    if operation not in ops:\n",
    "        operation = operation.lower()\n",
    "    if operation == '+' or operation == 'add':\n",
    "        return par1 + par2\n",
    "    elif operation == '-' or operation == 'sub':\n",
    "        return par1 - par2\n",
    "    elif operation == '*' or operation == 'mul':\n",
    "        return par1 * par2\n",
    "    elif operation == '**' or operation == 'pow':\n",
    "        return par1 ** par2\n",
    "    elif operation == '/' or operation == 'div':\n",
    "        return par1 / par2\n",
    "    elif operation == '//' or operation == 'int-div':\n",
    "        return par1 // par2\n",
    "    elif operation == '%' or operation == 'mod':\n",
    "        return par1 % par2\n",
    "    else:\n",
    "        legalOperations = ['+ or add', '- or sub', '* or mul', '** or pow', '/ or div', '// or int-div', '% or mod']\n",
    "        print('Function not defined or keyword has been specified! Please enter in one of the following operations: {}'. format(legalOperations))\n",
    "            \n",
    "print(calc('add', 10, 4))"
   ]
  },
  {
   "cell_type": "markdown",
   "metadata": {},
   "source": [
    "<h3>10 - 09</h3>"
   ]
  },
  {
   "cell_type": "code",
   "execution_count": 25,
   "metadata": {
    "collapsed": true,
    "jupyter": {
     "outputs_hidden": true
    }
   },
   "outputs": [
    {
     "name": "stdout",
     "output_type": "stream",
     "text": [
      "27\n"
     ]
    }
   ],
   "source": [
    "def calculator(number1, number2):\n",
    "    add = number1 + number2\n",
    "    sub = number1 - number2\n",
    "    mult = number1 * number2\n",
    "    div = number1 / number2\n",
    "    \n",
    "    return add, sub, mult, div\n",
    "\n",
    "add, sub, mult, div = calculator(9,3)\n",
    "print(mult)"
   ]
  },
  {
   "cell_type": "code",
   "execution_count": 22,
   "metadata": {
    "collapsed": true,
    "jupyter": {
     "outputs_hidden": true
    }
   },
   "outputs": [
    {
     "name": "stdout",
     "output_type": "stream",
     "text": [
      "['a', 'c', 'b', 'd']\n"
     ]
    }
   ],
   "source": [
    "def unique_list(lst):\n",
    "    new_lst = []\n",
    "    for item in lst:\n",
    "        if item not in new_lst:\n",
    "            new_lst.append(item)\n",
    "    return new_lst\n",
    "            \n",
    "lst = ['a', 'c', 'b', 'b', 'c', 'a', 'd']\n",
    "\n",
    "print(unique_list(lst))"
   ]
  },
  {
   "cell_type": "markdown",
   "metadata": {},
   "source": [
    "<h3>10 - 12</h3>"
   ]
  },
  {
   "cell_type": "code",
   "execution_count": 2,
   "metadata": {
    "collapsed": true,
    "jupyter": {
     "outputs_hidden": true
    }
   },
   "outputs": [
    {
     "data": {
      "text/plain": [
       "True"
      ]
     },
     "execution_count": 2,
     "metadata": {},
     "output_type": "execute_result"
    }
   ],
   "source": [
    "def isPalindrome(string):\n",
    "    if string == string[::-1]:\n",
    "        return True\n",
    "    else:\n",
    "        return False\n",
    "string = \"tacocat\"\n",
    "isPalindrome(string)"
   ]
  },
  {
   "cell_type": "code",
   "execution_count": 29,
   "metadata": {
    "collapsed": true,
    "jupyter": {
     "outputs_hidden": true
    }
   },
   "outputs": [
    {
     "data": {
      "text/plain": [
       "True"
      ]
     },
     "execution_count": 29,
     "metadata": {},
     "output_type": "execute_result"
    }
   ],
   "source": [
    "def isPalindrome(string):\n",
    "    lchar = 0\n",
    "    rchar = len(string) - 1\n",
    "    index = 0\n",
    "    for i in range(len(string)):\n",
    "        if string[lchar] == string[rchar]:  \n",
    "            rchar += 1\n",
    "            lchar -= 1\n",
    "            return True\n",
    "        else: return False\n",
    "\n",
    "pal = \"tacocat\"\n",
    "# string2 = \"nottacocat\"\n",
    "\n",
    "isPalindrome(pal)\n",
    "# isPalindrome(string2)"
   ]
  },
  {
   "cell_type": "code",
   "execution_count": 33,
   "metadata": {
    "collapsed": true,
    "jupyter": {
     "outputs_hidden": true
    }
   },
   "outputs": [],
   "source": [
    "def isPalindrome(string):\n",
    "    pass\n",
    "#     lchar = 0\n",
    "#     rchar = len(string) - 1\n",
    "#     while rchar >= lchar:\n",
    "#         if not string[lchar] == string[rchar]:\n",
    "#                return False\n",
    "#         rchar += 1\n",
    "#         lchar -= 1\n",
    "#     return True\n",
    "    \n",
    "string = \"tacocat\"\n",
    "# string2 = \"nottacocat\"\n",
    "\n",
    "isPalindrome(string)\n",
    "# isPalindrome(string2)"
   ]
  },
  {
   "cell_type": "markdown",
   "metadata": {},
   "source": [
    "<h5>Libraries:</h5>\n",
    "import random - generating random numbers\n",
    "import os - interacting with siles in your computer\n",
    "import re - sequence of character to create search pattern\n",
    "import datetime - date and formating\n",
    "import math - math functions\n",
    "import xml - processing xml"
   ]
  },
  {
   "cell_type": "markdown",
   "metadata": {},
   "source": [
    "NumPy = Numerical Python\n",
    "core of NumPy is ndarray (n dimentional array): container of items of same type and size"
   ]
  },
  {
   "cell_type": "code",
   "execution_count": 3,
   "metadata": {
    "collapsed": true,
    "jupyter": {
     "outputs_hidden": true
    }
   },
   "outputs": [
    {
     "name": "stdout",
     "output_type": "stream",
     "text": [
      "[[1, 2, 3], [4, 5, 6], [7, 8, 9]]\n"
     ]
    }
   ],
   "source": [
    "matrix = [\n",
    "    [1, 2, 3],\n",
    "    [4, 5, 6],\n",
    "    [7, 8, 9]\n",
    "]\n",
    "print(matrix)"
   ]
  },
  {
   "cell_type": "markdown",
   "metadata": {},
   "source": [
    "lists whithin lists are easy to use but not efficient"
   ]
  },
  {
   "cell_type": "code",
   "execution_count": 4,
   "metadata": {
    "collapsed": true,
    "jupyter": {
     "outputs_hidden": true
    }
   },
   "outputs": [
    {
     "name": "stdout",
     "output_type": "stream",
     "text": [
      "[[1 2 3]\n",
      " [4 5 6]\n",
      " [7 8 9]]\n"
     ]
    }
   ],
   "source": [
    "import numpy\n",
    "\n",
    "arr = numpy.array(matrix)\n",
    "print(arr)"
   ]
  },
  {
   "cell_type": "code",
   "execution_count": 40,
   "metadata": {
    "collapsed": true,
    "jupyter": {
     "outputs_hidden": true
    }
   },
   "outputs": [
    {
     "name": "stdout",
     "output_type": "stream",
     "text": [
      "5\n"
     ]
    }
   ],
   "source": [
    "# arr[row][column]\n",
    "print(arr[1][1])"
   ]
  },
  {
   "cell_type": "code",
   "execution_count": 41,
   "metadata": {
    "collapsed": true,
    "jupyter": {
     "outputs_hidden": true
    }
   },
   "outputs": [
    {
     "name": "stdout",
     "output_type": "stream",
     "text": [
      "6\n"
     ]
    }
   ],
   "source": [
    "# arr[row,column]\n",
    "print(arr[1,2])"
   ]
  },
  {
   "cell_type": "markdown",
   "metadata": {},
   "source": [
    "<h3>10 - 14 </h3>"
   ]
  },
  {
   "cell_type": "markdown",
   "metadata": {},
   "source": [
    "<a href = \"https://numpy.org/doc/stable/reference/\">NumPy</a> submodules:\n",
    ".sin, .cos, .log, .exp, .max, .min"
   ]
  },
  {
   "cell_type": "code",
   "execution_count": 5,
   "metadata": {
    "collapsed": true,
    "jupyter": {
     "outputs_hidden": true
    }
   },
   "outputs": [
    {
     "data": {
      "text/plain": [
       "9"
      ]
     },
     "execution_count": 5,
     "metadata": {},
     "output_type": "execute_result"
    }
   ],
   "source": [
    "numpy.max(arr)"
   ]
  },
  {
   "cell_type": "code",
   "execution_count": 7,
   "metadata": {
    "collapsed": true,
    "jupyter": {
     "outputs_hidden": true
    }
   },
   "outputs": [
    {
     "name": "stdout",
     "output_type": "stream",
     "text": [
      "Minimun: -2\n",
      "Cosine of 0th elemnt: 0.53\n"
     ]
    }
   ],
   "source": [
    "a = numpy.array([45, 2, 59, -2, 70, 3, 6, 790])\n",
    "print(\"Minimun:\", numpy.min(a))\n",
    "print(\"Cosine of 0th element: {:.2f}\".format(numpy.cos(a[0])))"
   ]
  },
  {
   "cell_type": "markdown",
   "metadata": {},
   "source": [
    "Fourier transforms: <b><a href = \"https://numpy.org/doc/stable/reference/routines.fft.html\">.fft</a></b>\n",
    "several applications, any continuous function can be produced as an infinite sum of sine and cosine waves. \n",
    "\n",
    "Linear algebr: <b><a href = \"https://numpy.org/doc/stable/reference/routines.linalg.html\">.linalg</a></b>\n",
    ".linalg.norm - vector norms\n",
    ".linalg.svd - singular value decomposition\n",
    ".linalg.det - determinant\n",
    "\n",
    "Random numbers: <b><a href = \"https://numpy.org/doc/stable/reference/random/index.html\">.random</a></b>\n",
    "Can generate random arrays of data. \n",
    "Thread safe. Thread: multiple independent calls at the same time.\n",
    "\n",
    "Testing: <b><a href = \"https://numpy.org/doc/stable/reference/routines.testing.html\">.testing.[error]</a></b>\n",
    "Testing code for errors"
   ]
  },
  {
   "cell_type": "code",
   "execution_count": 10,
   "metadata": {
    "collapsed": true,
    "jupyter": {
     "outputs_hidden": true
    }
   },
   "outputs": [
    {
     "name": "stdout",
     "output_type": "stream",
     "text": [
      "[25, 100, 225, 400, 625]\n"
     ]
    }
   ],
   "source": [
    "our_list = [5, 10, 15, 20, 25]\n",
    "new_list = []\n",
    "for i in our_list:\n",
    "    new_list.append(i ** 2)\n",
    "print(new_list)"
   ]
  },
  {
   "cell_type": "code",
   "execution_count": 11,
   "metadata": {
    "collapsed": true,
    "jupyter": {
     "outputs_hidden": true
    }
   },
   "outputs": [
    {
     "name": "stdout",
     "output_type": "stream",
     "text": [
      "[ 25 100 225 400 625]\n"
     ]
    }
   ],
   "source": [
    "our_list = numpy.array(our_list)\n",
    "our_list = our_list ** 2\n",
    "print(our_list)"
   ]
  },
  {
   "cell_type": "code",
   "execution_count": null,
   "metadata": {
    "collapsed": true,
    "jupyter": {
     "outputs_hidden": true
    }
   },
   "outputs": [],
   "source": [
    "new_list = [10, 21, 30, 43, 54]\n",
    "new_list = numpy.array(new_list)\n",
    "new_list = new_list // 5\n",
    "print(new_list)"
   ]
  },
  {
   "cell_type": "code",
   "execution_count": null,
   "metadata": {
    "collapsed": true,
    "jupyter": {
     "outputs_hidden": true
    }
   },
   "outputs": [],
   "source": [
    "# (slide 30 @ 43 min)\n",
    "vector = [ 4.0, 15.0, 6.0, 2.0]\n",
    "magnitude = 0.0\n",
    "for element in vector:\n",
    "    magnitude +- element ** 2\n",
    "magnitude = (magnitude ** 0.5)\n",
    "print(\"Original magnitude:\", magnitude)"
   ]
  },
  {
   "cell_type": "code",
   "execution_count": null,
   "metadata": {
    "collapsed": true,
    "jupyter": {
     "outputs_hidden": true
    }
   },
   "outputs": [],
   "source": [
    "new_magnitude = 0.0\n",
    "for index in range(len(vector)):\n",
    "    element = vector[index]\n",
    "    vector[index] = element / magnitude\n",
    "    new_magnitude += vector[index] ** 2\n",
    "new_magnitude = (new_magnitude ** 0.5)\n",
    "print(\"Normal magnitude:\", new_magnitude)"
   ]
  },
  {
   "cell_type": "code",
   "execution_count": 2,
   "metadata": {},
   "outputs": [],
   "source": [
    "import numpy as np\n",
    "import numpy.linalg as nla"
   ]
  },
  {
   "cell_type": "code",
   "execution_count": 19,
   "metadata": {
    "collapsed": true,
    "jupyter": {
     "outputs_hidden": true
    }
   },
   "outputs": [
    {
     "name": "stdout",
     "output_type": "stream",
     "text": [
      "Original magnitude: 16.76\n",
      "Normalized magnitude: 1.00\n"
     ]
    }
   ],
   "source": [
    "vector = [ 4.0, 15.0, 6.0, 2.0]\n",
    "\n",
    "np_vector = np.array(vector)\n",
    "magnitude = nla.norm(np_vector)\n",
    "print(\"Original magnitude: {:.2f}\".format(magnitude))\n",
    "\n",
    "np_vector /= magnitude\n",
    "new_magnitude = nla.norm(np_vector)\n",
    "print(\"Normalized magnitude: {:.2f}\".format(new_magnitude))"
   ]
  },
  {
   "cell_type": "markdown",
   "metadata": {},
   "source": [
    "<h3>10 - 16</h3>"
   ]
  },
  {
   "cell_type": "code",
   "execution_count": null,
   "metadata": {
    "collapsed": true,
    "jupyter": {
     "outputs_hidden": true
    }
   },
   "outputs": [],
   "source": [
    "x = np.array([1,2,3])\n",
    "y = np.array([4,5,6])\n",
    "z = x + y\n",
    "print(z)"
   ]
  },
  {
   "cell_type": "code",
   "execution_count": 10,
   "metadata": {
    "collapsed": true,
    "jupyter": {
     "outputs_hidden": true
    }
   },
   "outputs": [
    {
     "data": {
      "text/plain": [
       "array([[19, 22],\n",
       "       [43, 50]])"
      ]
     },
     "execution_count": 10,
     "metadata": {},
     "output_type": "execute_result"
    }
   ],
   "source": [
    "A = np.array([[1,2],[3,4]])\n",
    "B = np.array([[5,6],[7,8]])\n",
    "A @ B #matrix multiplication"
   ]
  },
  {
   "cell_type": "code",
   "execution_count": 5,
   "metadata": {
    "collapsed": true,
    "jupyter": {
     "outputs_hidden": true
    }
   },
   "outputs": [
    {
     "name": "stdout",
     "output_type": "stream",
     "text": [
      "(3, 2)\n"
     ]
    }
   ],
   "source": [
    "tensor = np.array([[1,2], [3,4], [5,6]])\n",
    "print(tensor.shape)"
   ]
  },
  {
   "cell_type": "code",
   "execution_count": 37,
   "metadata": {
    "collapsed": true,
    "jupyter": {
     "outputs_hidden": true
    }
   },
   "outputs": [
    {
     "name": "stdout",
     "output_type": "stream",
     "text": [
      "[[19. 22.]\n",
      " [43. 50.]]\n"
     ]
    }
   ],
   "source": [
    "def multiply_loops(A,B):\n",
    "    C = np.zeros((A.shape[0], B.shape[1]))\n",
    "    for i in range(len(A)):       \n",
    "        for j in range(len(B[0])):  \n",
    "            for k in range(len(B)):\n",
    "                C[i][j] += A[i][k] * B[k][j]\n",
    "    return C\n",
    "print(multiply_loops(A,B))"
   ]
  },
  {
   "cell_type": "code",
   "execution_count": 25,
   "metadata": {
    "collapsed": true,
    "jupyter": {
     "outputs_hidden": true
    }
   },
   "outputs": [
    {
     "name": "stdout",
     "output_type": "stream",
     "text": [
      "9.58 µs ± 2.73 µs per loop (mean ± std. dev. of 7 runs, 100000 loops each)\n"
     ]
    }
   ],
   "source": [
    "import iLtimeit\n",
    "X = np.random.random((100, 100))\n",
    "Y = np.random.random((100, 100))"
   ]
  },
  {
   "cell_type": "code",
   "execution_count": 26,
   "metadata": {
    "collapsed": true,
    "jupyter": {
     "outputs_hidden": true
    }
   },
   "outputs": [
    {
     "name": "stdout",
     "output_type": "stream",
     "text": [
      "91.4 µs ± 19.8 µs per loop (mean ± std. dev. of 7 runs, 10000 loops each)\n"
     ]
    }
   ],
   "source": [
    "def multiply_vectors(A,B):\n",
    "    result = A @ B\n",
    "    return result"
   ]
  },
  {
   "cell_type": "code",
   "execution_count": 31,
   "metadata": {
    "collapsed": true,
    "jupyter": {
     "outputs_hidden": true
    }
   },
   "outputs": [
    {
     "name": "stdout",
     "output_type": "stream",
     "text": [
      "50 ms ± 24.2 ms per loop (mean ± std. dev. of 7 runs, 10 loops each)\n",
      "106 µs ± 48.9 µs per loop (mean ± std. dev. of 7 runs, 10000 loops each)\n"
     ]
    }
   ],
   "source": [
    "%timeit multiply_loops(X, Y)\n",
    "%timeit multiply_vectors(X, Y)"
   ]
  },
  {
   "cell_type": "markdown",
   "metadata": {},
   "source": [
    "List Indexing"
   ]
  },
  {
   "cell_type": "code",
   "execution_count": 44,
   "metadata": {
    "collapsed": true,
    "jupyter": {
     "outputs_hidden": true
    }
   },
   "outputs": [
    {
     "name": "stdout",
     "output_type": "stream",
     "text": [
      "['this', 'is', 'a', 'list']\n",
      "['is', 'a']\n",
      "['a', 'list']\n",
      "['this', 'is', 'a']\n"
     ]
    }
   ],
   "source": [
    "li = ['this', 'is', 'a', 'list']\n",
    "print(li)\n",
    "print(li[1:3])\n",
    "print(li[2:])\n",
    "print(li[:-1])"
   ]
  },
  {
   "cell_type": "code",
   "execution_count": 50,
   "metadata": {
    "collapsed": true,
    "jupyter": {
     "outputs_hidden": true
    }
   },
   "outputs": [
    {
     "name": "stdout",
     "output_type": "stream",
     "text": [
      "[1 2 3 4 5]\n",
      "[2 3]\n",
      "[3 4 5]\n",
      "[1 2 3 4]\n"
     ]
    }
   ],
   "source": [
    "x = np.array([1,2,3,4,5])\n",
    "print(x)\n",
    "print(x[1: 3])\n",
    "print(x[2: ])\n",
    "print(x[: -1])"
   ]
  },
  {
   "cell_type": "code",
   "execution_count": 48,
   "metadata": {
    "collapsed": true,
    "jupyter": {
     "outputs_hidden": true
    }
   },
   "outputs": [
    {
     "name": "stdout",
     "output_type": "stream",
     "text": [
      "[[1, 2, 3], [4, 5, 6], [7, 8, 9]]\n",
      "[1, 2, 3]\n",
      "1\n"
     ]
    }
   ],
   "source": [
    "python_matrix = [[1,2,3],[4,5,6],[7,8,9]]\n",
    "print(python_matrix)\n",
    "print(python_matrix[0])\n",
    "print(python_matrix[0][0])"
   ]
  },
  {
   "cell_type": "code",
   "execution_count": 49,
   "metadata": {
    "collapsed": true,
    "jupyter": {
     "outputs_hidden": true
    }
   },
   "outputs": [
    {
     "name": "stdout",
     "output_type": "stream",
     "text": [
      "[[1 2 3]\n",
      " [4 5 6]\n",
      " [7 8 9]]\n",
      "[1 2 3]\n",
      "1\n"
     ]
    }
   ],
   "source": [
    "numpy_matrix = np.array(python_matrix)\n",
    "print(numpy_matrix)\n",
    "print(numpy_matrix[0])\n",
    "print(numpy_matrix[0][0])"
   ]
  },
  {
   "cell_type": "markdown",
   "metadata": {},
   "source": [
    "array[row,colum]\n",
    "indexes start at 0"
   ]
  },
  {
   "cell_type": "code",
   "execution_count": 51,
   "metadata": {
    "collapsed": true,
    "jupyter": {
     "outputs_hidden": true
    }
   },
   "outputs": [
    {
     "name": "stdout",
     "output_type": "stream",
     "text": [
      "[2 5 8]\n"
     ]
    }
   ],
   "source": [
    "arr = np.array([[1,2,3],[4,5,6],[7,8,9]])\n",
    "print(arr[:, 1])"
   ]
  },
  {
   "cell_type": "markdown",
   "metadata": {},
   "source": [
    "<h5>.shape</h5>\n",
    "len(narray.shape) = returns number of elements in the matrix"
   ]
  },
  {
   "cell_type": "markdown",
   "metadata": {},
   "source": [
    "<h3>10 - 19</h3>"
   ]
  },
  {
   "cell_type": "markdown",
   "metadata": {},
   "source": [
    "array[row,colum]<br>\n",
    "indexes start at 0<br>\n",
    "it's possible to use slicing to reference the arrays<br>\n",
    "arr[:2, 1:] all rows up to - but not including - row 2 / all columns starting at - but not including - col 1<br>\n",
    "arr[2] / arr[2, :], arr[2:,:]<br>\n",
    "arr[:,:2]<br>\n",
    "arr[1,:2]<br>\n",
    "arr[1:2, :2]<br>"
   ]
  },
  {
   "cell_type": "markdown",
   "metadata": {},
   "source": [
    "<b>Advanced Slicing:</b>\n",
    "Simple slicing: [start:end]<br>\n",
    "Advanced slicing: [started:end:step]<br><br>\n",
    "\n",
    "<b>Numpy functions:</b>\n",
    ".arange(a,b) - creates a range starting from a to b<br>\n",
    ".reshape(a,b) - reshapes the array in a matris with a rows and b columns<br>\n",
    ".empty(shape(x,y,z)) - returns new array with shape defined by user - x,y,z being the 3dimentions<br>\n",
    ".ndim() - returns the number of dimentions in the array<br>\n",
    "len(array.shape)) - also returns the number of dimentions in the array<br>\n",
    "del array - deletes an array structure<br>\n",
    ".size - returns the size of the array<br>\n",
    ".zeros / .ones - creates an array with only zeros or ones<br>"
   ]
  },
  {
   "cell_type": "code",
   "execution_count": 8,
   "metadata": {},
   "outputs": [
    {
     "data": {
      "text/plain": [
       "array([[ 2,  4],\n",
       "       [ 6,  8],\n",
       "       [10, 12]])"
      ]
     },
     "execution_count": 8,
     "metadata": {},
     "output_type": "execute_result"
    }
   ],
   "source": [
    "a = np.array([[1,2,3,4],[5,6,7,8],[9,10,11,12]])\n",
    "a[:,1::2]"
   ]
  },
  {
   "cell_type": "code",
   "execution_count": 22,
   "metadata": {},
   "outputs": [
    {
     "name": "stdout",
     "output_type": "stream",
     "text": [
      "[[ 0  1  2  3  4  5]\n",
      " [ 6  7  8  9 10 11]\n",
      " [12 13 14 15 16 17]\n",
      " [18 19 20 21 22 23]\n",
      " [24 25 26 27 28 29]\n",
      " [30 31 32 33 34 35]]\n",
      "\n",
      "Estracted data:\n",
      " [[12 14 16]\n",
      " [24 26 28]]\n"
     ]
    }
   ],
   "source": [
    "import numpy as np\n",
    "array_data = np.arange(0, 36).reshape(6,6)\n",
    "print(array_data)\n",
    "\n",
    "slicing = array_data[2::2, ::2]\n",
    "print(\"\\nEstracted data:\\n\", slicing)"
   ]
  },
  {
   "cell_type": "markdown",
   "metadata": {},
   "source": [
    "<b>5 Axis Numpy object:</b><br>\n",
    "Axis 0 = color<br>\n",
    "Axis 1 = height<br>\n",
    "Axis 2 = width<br>\n",
    "Axis 3 = depth<br>\n",
    "Axis 4 = frame"
   ]
  },
  {
   "cell_type": "code",
   "execution_count": 24,
   "metadata": {},
   "outputs": [
    {
     "name": "stdout",
     "output_type": "stream",
     "text": [
      "(2, 640, 480, 360, 100)\n",
      "22118400000\n"
     ]
    }
   ],
   "source": [
    "tensor = np.empty(shape = (2,640,480,360,100))\n",
    "print(tensor.shape)\n",
    "print(tensor.size)\n",
    "del tensor"
   ]
  },
  {
   "cell_type": "code",
   "execution_count": 29,
   "metadata": {},
   "outputs": [
    {
     "name": "stdout",
     "output_type": "stream",
     "text": [
      "(3, 5, 9)\n",
      "[[[0. 0. 0. 0. 0. 0. 0. 0. 0.]\n",
      "  [0. 0. 0. 0. 0. 0. 0. 0. 0.]\n",
      "  [0. 0. 0. 0. 0. 0. 0. 0. 0.]\n",
      "  [0. 0. 0. 0. 0. 0. 0. 0. 0.]\n",
      "  [0. 0. 0. 0. 0. 0. 0. 0. 0.]]\n",
      "\n",
      " [[0. 0. 0. 0. 0. 0. 0. 0. 0.]\n",
      "  [0. 0. 0. 0. 0. 0. 0. 0. 0.]\n",
      "  [0. 0. 0. 0. 0. 0. 0. 0. 0.]\n",
      "  [0. 0. 0. 0. 0. 0. 0. 0. 0.]\n",
      "  [0. 0. 0. 0. 0. 0. 0. 0. 0.]]\n",
      "\n",
      " [[0. 0. 0. 0. 0. 0. 0. 0. 0.]\n",
      "  [0. 0. 0. 0. 0. 0. 0. 0. 0.]\n",
      "  [0. 0. 0. 0. 0. 0. 0. 0. 0.]\n",
      "  [0. 0. 0. 0. 0. 0. 0. 0. 0.]\n",
      "  [0. 0. 0. 0. 0. 0. 0. 0. 0.]]]\n",
      "(5, 9)\n",
      "[[0. 0. 0. 0. 0. 0. 0. 0. 0.]\n",
      " [0. 0. 0. 0. 0. 0. 0. 0. 0.]\n",
      " [0. 0. 0. 0. 0. 0. 0. 0. 0.]\n",
      " [0. 0. 0. 0. 0. 0. 0. 0. 0.]\n",
      " [0. 0. 0. 0. 0. 0. 0. 0. 0.]]\n",
      "(9,)\n",
      "[0. 0. 0. 0. 0. 0. 0. 0. 0.]\n"
     ]
    }
   ],
   "source": [
    "example = np.zeros(shape = (3,5,9))\n",
    "print(example.shape)\n",
    "print(example)\n",
    "sliced = example[0]\n",
    "print(sliced.shape)\n",
    "print(sliced)\n",
    "double_sliced = example[0,0]\n",
    "print(double_sliced.shape)\n",
    "print(double_sliced)"
   ]
  },
  {
   "cell_type": "markdown",
   "metadata": {},
   "source": [
    "<h2>RESEARCH: <b>List Comprehension and Broadcasting</b></h2>\n",
    "Perform an operation on the entire array. Arrays need to be compatible.\n"
   ]
  },
  {
   "cell_type": "markdown",
   "metadata": {},
   "source": [
    "<h3>10 - 26</h3>"
   ]
  },
  {
   "cell_type": "markdown",
   "metadata": {},
   "source": [
    "filesystem interaction / user input"
   ]
  },
  {
   "cell_type": "code",
   "execution_count": 1,
   "metadata": {},
   "outputs": [
    {
     "name": "stdin",
     "output_type": "stream",
     "text": [
      "Enter your name:  Barbara\n"
     ]
    },
    {
     "name": "stdout",
     "output_type": "stream",
     "text": [
      "<class 'str'>\n"
     ]
    }
   ],
   "source": [
    "name = input(\"Enter your name: \")\n",
    "print(type(name))"
   ]
  },
  {
   "cell_type": "code",
   "execution_count": 2,
   "metadata": {},
   "outputs": [
    {
     "name": "stdin",
     "output_type": "stream",
     "text": [
      "Enter your age:  23\n"
     ]
    },
    {
     "name": "stdout",
     "output_type": "stream",
     "text": [
      "<class 'int'>\n"
     ]
    }
   ],
   "source": [
    "age = int(input(\"Enter your age: \"))\n",
    "print(type(age))"
   ]
  },
  {
   "cell_type": "code",
   "execution_count": 3,
   "metadata": {},
   "outputs": [
    {
     "name": "stdout",
     "output_type": "stream",
     "text": [
      "Project Gutenberg's Alice's Adventures in Wonderland, by Lewis Carroll\n",
      "\n"
     ]
    }
   ],
   "source": [
    "file_object = open(\"files/alice.txt\", 'r')\n",
    "contents = file_object.read()\n",
    "print(contents[:71])\n",
    "file_object.close()"
   ]
  },
  {
   "cell_type": "code",
   "execution_count": 35,
   "metadata": {},
   "outputs": [
    {
     "name": "stdout",
     "output_type": "stream",
     "text": [
      "ALICE'S ADVENTURES IN WONDERLAND\n",
      "\n",
      "Lewis Carroll\n",
      "\n",
      "THE MILLENNIUM FULCRUM EDITION 3.0\n",
      "\n",
      "\n",
      "\n",
      "\n",
      "CHAPTER I. Down the Rabbit-Hole\n",
      "\n",
      "Alice was beginning to get very tired of sitting by her sister on the\n",
      "bank, and of having nothing to do: once or twice she had peeped into the\n",
      "book her sister was reading, but it had no pictures or conversations in\n",
      "it, 'and what is the use of a book,' thought Alice 'without pictures or\n",
      "conversations?'\n",
      "\n",
      "So she was considering in her own mind (as well as she could, for the\n",
      "hot day made her feel very sleepy and stupid), whether the pleasure\n",
      "of making a daisy-chain would be worth the trouble of getting up and\n",
      "picking the daisies, when suddenly a White Rabbit with pink eyes ran\n",
      "close by her.\n",
      "\n",
      "There was nothing so VERY remarkable in that; nor did Alice think it so\n",
      "VERY much out of the way to hear the Rabbit say to itself, 'Oh dear!\n",
      "Oh dear! I shall be late!' (when she thought it over afterwards, it\n",
      "occurred to her that she ought to have wondered at this, but at the time\n",
      "it all seemed quite natural); but when the Rabbit actually TOOK A WATCH\n",
      "OUT OF ITS WAISTCOAT-POCKET, and looked at it, and then hurried on,\n",
      "Alice started to her feet, for it flashed across her mind that she had\n",
      "never before seen a rabbit with either a waistcoat-pocket, or a watch\n",
      "to take out of it, and burning with curiosity, she ran across the field\n",
      "after it, and fortunately was just in time to see it pop down a large\n",
      "rabbit-hole under the hedge.\n",
      "\n",
      "In another moment down went Alice after it, never once considering how\n",
      "in the world she was to get out again.\n",
      "\n",
      "The rabbit-hole went straight on like a tunnel for some way, and then\n",
      "dipped suddenly down, so suddenly that Alice had not a moment to think\n",
      "about stopping herself before she found herself falling down a very deep\n",
      "well.\n",
      "\n",
      "Either the well was very deep, or she fell very slowly, for she had\n",
      "plenty of time as she went down to look about her and to wonder what was\n",
      "going to happen next. First, she tried to look down and make out what\n",
      "she was coming to, but it was too dark to see anything; then she\n",
      "looked at the sides of the well, and noticed that they were filled with\n",
      "cupboards and book-shelves; here and there she saw maps and pictures\n",
      "hung upon pegs. She took down a jar from one of the shelves as\n",
      "she passed; it was labelled 'ORANGE MARMALADE', but to her great\n",
      "disappointment it was empty: she did not like to drop the jar for fear\n",
      "of killing somebody, so managed to put it into one of the cupboards as\n",
      "she fell past it.\n",
      "\n",
      "'Well!' thought Alice to herself, 'after such a fall as this, I shall\n",
      "think nothing of tumbling down stairs! How brave they'll all think me at\n",
      "home! Why, I wouldn't say anything about it, even if I fell off the top\n",
      "of the house!' (Which was very likely true.)\n",
      "\n",
      "Down, down, down. Would the fall NEVER come to an end! 'I wonder how\n",
      "many miles I've fallen by this time?' she said aloud. 'I must be getting\n",
      "somewhere near the centre of the earth. Let me see: that would be four\n",
      "thousand miles down, I think--' (for, you see, Alice had learnt several\n",
      "things of this sort in her lessons in the schoolroom, and though this\n",
      "was not a VERY good opportunity for showing off her knowledge, as there\n",
      "was no one to listen to her, still it was good practice to say it over)\n",
      "'--yes, that's about the right distance--but then I wonder what Latitude\n",
      "or Longitude I've got to?' (Alice had no idea what Latitude was, or\n",
      "Longitude either, but thought they were nice grand words to say.)\n",
      "\n",
      "Presently she began again. 'I wonder if I shall fall right THROUGH the\n",
      "earth! How funny it'll seem to come out among the people that walk with\n",
      "their heads downward! The Antipathies, I think--' (she was rather glad\n",
      "there WAS no one listening, this time, as it didn't sound at all the\n",
      "right word) '--but I shall have to ask them what the name of the country\n",
      "is, you know. Please, Ma'am, is this New Zealand or Australia?' (and\n",
      "she tried to curtsey as she spoke--fancy CURTSEYING as you're falling\n",
      "through the air! Do you think you could manage it?) 'And what an\n",
      "ignorant little girl she'll think me for asking! No, it'll never do to\n",
      "ask: perhaps I shall see it written up somewhere.'\n",
      "\n",
      "Down, down, down. There was nothing else to do, so Alice soon began\n",
      "talking again. 'Dinah'll miss me very much to-night, I should think!'\n",
      "(Dinah was the cat.) 'I hope they'll remember her saucer of milk at\n",
      "tea-time. Dinah my dear! I wish you were down here with me! There are no\n",
      "mice in the air, I'm afraid, but you might catch a bat, and that's very\n",
      "like a mouse, you know. But do cats eat bats, I wonder?' And here Alice\n",
      "began to get rather sleepy, and went on saying to herself, in a dreamy\n",
      "sort of way, 'Do cats eat bats? Do cats eat bats?' and sometimes, 'Do\n",
      "bats eat cats?' for, you see, as she couldn't answer either question,\n",
      "it didn't much matter which way she put it. She felt that she was dozing\n",
      "off, and had just begun to dream that she was walking hand in hand with\n",
      "Dinah, and saying to her very earnestly, 'Now, Dinah, tell me the truth:\n",
      "did you ever eat a bat?' when suddenly, thump! thump! down she came upon\n",
      "a heap of sticks and dry leaves, and the fall was over.\n",
      "\n",
      "Alice was not a bit hurt, and she jumped up on to her feet in a moment:\n",
      "she looked up, but it was all dark overhead; before her was another\n",
      "long passage, and the White Rabbit was still in sight, hurrying down it.\n",
      "There was not a moment to be lost: away went Alice like the wind, and\n",
      "was just in time to hear it say, as it turned a corner, 'Oh my ears\n",
      "and whiskers, how late it's getting!' She was close behind it when she\n",
      "turned the corner, but the Rabbit was no longer to be seen: she found\n",
      "herself in a long, low hall, which was lit up by a row of lamps hanging\n",
      "from the roof.\n",
      "\n",
      "There were doors all round the hall, but they were all locked; and when\n",
      "Alice had been all the way down one side and up the other, trying every\n",
      "door, she walked sadly down the middle, wondering how she was ever to\n",
      "get out again.\n",
      "\n",
      "Suddenly she came upon a little three-legged table, all made of solid\n",
      "glass; there was nothing on it except a tiny golden key, and Alice's\n",
      "first thought was that it might belong to one of the doors of the hall;\n",
      "but, alas! either the locks were too large, or the key was too small,\n",
      "but at any rate it would not open any of them. However, on the second\n",
      "time round, she came upon a low curtain she had not noticed before, and\n",
      "behind it was a little door about fifteen inches high: she tried the\n",
      "little golden key in the lock, and to her great delight it fitted!\n",
      "\n",
      "Alice opened the door and found that it led into a small passage, not\n",
      "much larger than a rat-hole: she knelt down and looked along the passage\n",
      "into the loveliest garden you ever saw. How she longed to get out of\n",
      "that dark hall, and wander about among those beds of bright flowers and\n",
      "those cool fountains, but she could not even get her head through the\n",
      "doorway; 'and even if my head would go through,' thought poor Alice, 'it\n",
      "would be of very little use without my shoulders. Oh, how I wish I could\n",
      "shut up like a telescope! I think I could, if I only knew how to begin.'\n",
      "For, you see, so many out-of-the-way things had happened lately,\n",
      "that Alice had begun to think that very few things indeed were really\n",
      "impossible.\n",
      "\n",
      "There seemed to be no use in waiting by the little door, so she went\n",
      "back to the table, half hoping she might find another key on it, or at\n",
      "any rate a book of rules for shutting people up like telescopes: this\n",
      "time she found a little bottle on it, ('which certainly was not here\n",
      "before,' said Alice,) and round the neck of the bottle was a paper\n",
      "label, with the words 'DRINK ME' beautifully printed on it in large\n",
      "letters.\n",
      "\n",
      "It was all very well to say 'Drink me,' but the wise little Alice was\n",
      "not going to do THAT in a hurry. 'No, I'll look first,' she said, 'and\n",
      "see whether it's marked \"poison\" or not'; for she had read several nice\n",
      "little histories about children who had got burnt, and eaten up by wild\n",
      "beasts and other unpleasant things, all because they WOULD not remember\n",
      "the simple rules their friends had taught them: such as, that a red-hot\n",
      "poker will burn you if you hold it too long; and that if you cut your\n",
      "finger VERY deeply with a knife, it usually bleeds; and she had never\n",
      "forgotten that, if you drink much from a bottle marked 'poison,' it is\n",
      "almost certain to disagree with you, sooner or later.\n",
      "\n",
      "However, this bottle was NOT marked 'poison,' so Alice ventured to taste\n",
      "it, and finding it very nice, (it had, in fact, a sort of mixed flavour\n",
      "of cherry-tart, custard, pine-apple, roast turkey, toffee, and hot\n",
      "buttered toast,) she very soon finished it off.\n",
      "\n",
      "  *    *    *    *    *    *    *\n",
      "\n",
      "    *    *    *    *    *    *\n",
      "\n",
      "  *    *    *    *    *    *    *\n",
      "\n",
      "'What a curious feeling!' said Alice; 'I must be shutting up like a\n",
      "telescope.'\n",
      "\n",
      "And so it was indeed: she was now only ten inches high, and her face\n",
      "brightened up at the thought that she was now the right size for going\n",
      "through the little door into that lovely garden. First, however, she\n",
      "waited for a few minutes to see if she was going to shrink any further:\n",
      "she felt a little nervous about this; 'for it might end, you know,' said\n",
      "Alice to herself, 'in my going out altogether, like a candle. I wonder\n",
      "what I should be like then?' And she tried to fancy what the flame of a\n",
      "candle is like after the candle is blown out, for she could not remember\n",
      "ever having seen such a thing.\n",
      "\n",
      "After a while, finding that nothing more happened, she decided on going\n",
      "into the garden at once; but, alas for poor Alice! when she got to the\n",
      "door, she found she had forgotten the little golden key, and when she\n",
      "went back to the table for it, she found she could not possibly reach\n",
      "it: she could see it quite plainly through the glass, and she tried her\n",
      "best to climb up one of the legs of the table, but it was too slippery;\n",
      "and when she had tired herself out with trying, the poor little thing\n",
      "sat down and cried.\n",
      "\n",
      "'Come, there's no use in crying like that!' said Alice to herself,\n",
      "rather sharply; 'I advise you to leave off this minute!' She generally\n",
      "gave herself very good advice, (though she very seldom followed it),\n",
      "and sometimes she scolded herself so severely as to bring tears into\n",
      "her eyes; and once she remembered trying to box her own ears for having\n",
      "cheated herself in a game of croquet she was playing against herself,\n",
      "for this curious child was very fond of pretending to be two people.\n",
      "'But it's no use now,' thought poor Alice, 'to pretend to be two people!\n",
      "Why, there's hardly enough of me left to make ONE respectable person!'\n",
      "\n",
      "Soon her eye fell on a little glass box that was lying under the table:\n",
      "she opened it, and found in it a very small cake, on which the words\n",
      "'EAT ME' were beautifully marked in currants. 'Well, I'll eat it,' said\n",
      "Alice, 'and if it makes me grow larger, I can reach the key; and if it\n",
      "makes me grow smaller, I can creep under the door; so either way I'll\n",
      "get into the garden, and I don't care which happens!'\n",
      "\n",
      "She ate a little bit, and said anxiously to herself, 'Which way? Which\n",
      "way?', holding her hand on the top of her head to feel which way it was\n",
      "growing, and she was quite surprised to find that she remained the same\n",
      "size: to be sure, this generally happens when one eats cake, but Alice\n",
      "had got so much into the way of expecting nothing but out-of-the-way\n",
      "things to happen, that it seemed quite dull and stupid for life to go on\n",
      "in the common way.\n",
      "\n",
      "So she set to work, and very soon finished off the cake.\n",
      "\n",
      "  *    *    *    *    *    *    *\n",
      "\n",
      "    *    *    *    *    *    *\n",
      "\n",
      "  *    *    *    *    *    *    *\n"
     ]
    }
   ],
   "source": [
    "with open(\"files/alice.txt\", 'r') as alice_f:\n",
    "    contents = alice_f.read()\n",
    "    print(contents[597:12140])"
   ]
  },
  {
   "cell_type": "code",
   "execution_count": 42,
   "metadata": {},
   "outputs": [
    {
     "name": "stdout",
     "output_type": "stream",
     "text": [
      "Project Gutenberg's Alice's Adventures in Wonderland, by Lewis Carroll\n",
      "\n"
     ]
    }
   ],
   "source": [
    "with open(\"files/alice.txt\", 'r') as file_object:\n",
    "    lines_of_text = file_object.readline()\n",
    "    print(lines_of_text)"
   ]
  },
  {
   "cell_type": "code",
   "execution_count": null,
   "metadata": {},
   "outputs": [],
   "source": [
    "with open(\"files/alice.txt\", 'r') as file_object:\n",
    "    lines_of_text = file_object.readlines()\n",
    "    print(lines_of_text[8])"
   ]
  },
  {
   "cell_type": "code",
   "execution_count": 12,
   "metadata": {},
   "outputs": [],
   "source": [
    "data_to_save = \"LINE OF CODE 2\\n\"\n",
    "file_object = open(\"files/outfile.txt\", 'w')\n",
    "file_object.write(data_to_save)\n",
    "file_object.close()"
   ]
  },
  {
   "cell_type": "markdown",
   "metadata": {},
   "source": [
    ".write() overwritte previous file content"
   ]
  },
  {
   "cell_type": "code",
   "execution_count": 13,
   "metadata": {},
   "outputs": [],
   "source": [
    "with open(\"outfile.txt\", 'w') as alice_f:\n",
    "    alice_f.write(data_to_save)"
   ]
  },
  {
   "cell_type": "markdown",
   "metadata": {},
   "source": [
    "<h3>10 - 28</h3>"
   ]
  },
  {
   "cell_type": "markdown",
   "metadata": {},
   "source": [
    "Solution to Question 3 fom midterm exam"
   ]
  },
  {
   "cell_type": "code",
   "execution_count": 1,
   "metadata": {},
   "outputs": [],
   "source": [
    "def decode(s):\n",
    "    decoded_list = []\n",
    "#     decoded = \"\" \n",
    "    index = 0\n",
    "    \n",
    "    while index < len(s):\n",
    "        count = int(s[index])\n",
    "        index += count\n",
    "        decoded_list.append(s[index+1])\n",
    "#         decoded += (s[index+1])\n",
    "        \n",
    "        index += 2\n",
    "        decoded = \"\".join(decode_list)\n",
    "        \n",
    "    return decoded"
   ]
  },
  {
   "cell_type": "markdown",
   "metadata": {},
   "source": [
    "<h4>>> Appending to an existing file<h4>"
   ]
  },
  {
   "cell_type": "code",
   "execution_count": 14,
   "metadata": {},
   "outputs": [],
   "source": [
    "data_to_save = \"Data being appended\\n\"\n",
    "with open(\"files/outfile.txt\", 'a') as file_object:\n",
    "    file_object.write(data_to_save)"
   ]
  },
  {
   "cell_type": "code",
   "execution_count": 16,
   "metadata": {},
   "outputs": [
    {
     "name": "stdout",
     "output_type": "stream",
     "text": [
      "LINE OF CODE 2\n",
      "Data being appended\n",
      "\n"
     ]
    }
   ],
   "source": [
    "with open(\"files/outfile.txt\", 'r') as file_object:\n",
    "    for i in range(3):\n",
    "        print(file_object.readline().strip())"
   ]
  },
  {
   "cell_type": "markdown",
   "metadata": {},
   "source": [
    "<h3>10 - 30</h3>"
   ]
  },
  {
   "cell_type": "markdown",
   "metadata": {},
   "source": [
    "Relative path = a file in a directory\n",
    "Absolute path = full address of a file in the OS"
   ]
  },
  {
   "cell_type": "markdown",
   "metadata": {},
   "source": [
    "os library - imports miscellaneous operating system interfaces\n",
    "os.getcwd() - gets file/folder path\n",
    "os.chdir('path to change to') - moves to another folder\n",
    "os.listdir() - list all files in folder\n",
    "os.mkdir('folder path and name') - creates a directory\n",
    "os.rmdif('folder path and name') - removes a directory\n",
    "os.unlink('file path and name') - removes a file\n",
    "os.remove('file path and name') - removes a file\n",
    "os.rename('current name', 'new name') - renames files or folders\n",
    "os.path - module from os library\n",
    "    .exists(), \n",
    "    .lexists(), \n",
    "    .isdir(), \n",
    "    .isfile(), \n",
    "    .islink(),\n",
    "    .ismount()\n",
    "    .join()"
   ]
  },
  {
   "cell_type": "code",
   "execution_count": 4,
   "metadata": {},
   "outputs": [
    {
     "data": {
      "text/plain": [
       "'/Users/barbararocha/Google Drive - CofC/DATA_101'"
      ]
     },
     "execution_count": 4,
     "metadata": {},
     "output_type": "execute_result"
    }
   ],
   "source": [
    "import os # \n",
    "os.getcwd() # gets file path"
   ]
  },
  {
   "cell_type": "code",
   "execution_count": 13,
   "metadata": {},
   "outputs": [
    {
     "name": "stdout",
     "output_type": "stream",
     "text": [
      "/Users/barbararocha/Google Drive - CofC\n"
     ]
    },
    {
     "data": {
      "text/plain": [
       "'/Users/barbararocha/Google Drive - CofC/DATA_101'"
      ]
     },
     "execution_count": 13,
     "metadata": {},
     "output_type": "execute_result"
    }
   ],
   "source": [
    "os.chdir('..') #changes directories\n",
    "print(os.getcwd())\n",
    "os.chdir('DATA_101')\n",
    "print(os.getcwd())"
   ]
  },
  {
   "cell_type": "code",
   "execution_count": 14,
   "metadata": {},
   "outputs": [
    {
     "data": {
      "text/plain": [
       "['HW02.ipynb',\n",
       " 'lists.py',\n",
       " '.DS_Store',\n",
       " 'W06 - Conditionals - if, elif, else.html',\n",
       " 'HW01.ipynb',\n",
       " 'W09 - Array indexing, slicing and broadcasting.html',\n",
       " 'W04 - Lists, Dictionaries and Loops.html',\n",
       " 'Polygon.py',\n",
       " 'HW03.ipynb',\n",
       " 'outfile.txt',\n",
       " 'HW03.pdf',\n",
       " 'W01 - Data Science introduction.html',\n",
       " 'HW02.pdf',\n",
       " 'Practice_Examples.ipynb',\n",
       " 'HW01.pdf',\n",
       " 'W08 - Numpy, Vectors and vector operations.html',\n",
       " 'Fall_2020_DATA_101_Syllabus.pdf',\n",
       " 'practice.ipynb',\n",
       " 'W07 - Error handling, Functions.html',\n",
       " 'files',\n",
       " 'Elsevier-SDG-Report-2020.pdf',\n",
       " '.ipynb_checkpoints',\n",
       " 'W05 - List comprehension, Nested loops - format, range, zip, enumerate.html',\n",
       " 'W02 - Python introduction - operators.html',\n",
       " 'Notes.ipynb',\n",
       " '.idea',\n",
       " 'W03 - Variables, Strings, Comments and Spaces.html']"
      ]
     },
     "execution_count": 14,
     "metadata": {},
     "output_type": "execute_result"
    }
   ],
   "source": [
    "os.listdir()"
   ]
  },
  {
   "cell_type": "code",
   "execution_count": 16,
   "metadata": {},
   "outputs": [
    {
     "name": "stdout",
     "output_type": "stream",
     "text": [
      "['HW02.ipynb', 'lists.py', '.DS_Store', 'W06 - Conditionals - if, elif, else.html', 'HW01.ipynb', 'W09 - Array indexing, slicing and broadcasting.html', 'W04 - Lists, Dictionaries and Loops.html', 'Polygon.py', 'HW03.ipynb', 'outfile.txt', 'HW03.pdf', 'W01 - Data Science introduction.html', 'HW02.pdf', 'Practice_Examples.ipynb', 'HW01.pdf', 'W08 - Numpy, Vectors and vector operations.html', 'Fall_2020_DATA_101_Syllabus.pdf', 'practice.ipynb', 'W07 - Error handling, Functions.html', 'files', 'Elsevier-SDG-Report-2020.pdf', '.ipynb_checkpoints', 'W05 - List comprehension, Nested loops - format, range, zip, enumerate.html', 'W02 - Python introduction - operators.html', 'Notes.ipynb', '.idea', 'W03 - Variables, Strings, Comments and Spaces.html']\n",
      "['HW02.ipynb', 'lists.py', '.DS_Store', 'new_folder_nam', 'W06 - Conditionals - if, elif, else.html', 'HW01.ipynb', 'W09 - Array indexing, slicing and broadcasting.html', 'W04 - Lists, Dictionaries and Loops.html', 'Polygon.py', 'HW03.ipynb', 'outfile.txt', 'HW03.pdf', 'W01 - Data Science introduction.html', 'HW02.pdf', 'Practice_Examples.ipynb', 'HW01.pdf', 'W08 - Numpy, Vectors and vector operations.html', 'Fall_2020_DATA_101_Syllabus.pdf', 'practice.ipynb', 'W07 - Error handling, Functions.html', 'files', 'Elsevier-SDG-Report-2020.pdf', '.ipynb_checkpoints', 'W05 - List comprehension, Nested loops - format, range, zip, enumerate.html', 'W02 - Python introduction - operators.html', 'Notes.ipynb', '.idea', 'W03 - Variables, Strings, Comments and Spaces.html']\n"
     ]
    }
   ],
   "source": [
    "import os\n",
    "print(os.listdir())\n",
    "path = '/Users/barbararocha/Google Drive - CofC/DATA_101/new_folder_nam'\n",
    "os.mkdir(path)\n",
    "print(os.listdir())"
   ]
  },
  {
   "cell_type": "code",
   "execution_count": 17,
   "metadata": {},
   "outputs": [
    {
     "name": "stdout",
     "output_type": "stream",
     "text": [
      "['HW02.ipynb', 'lists.py', '.DS_Store', 'new_folder_nam', 'W06 - Conditionals - if, elif, else.html', 'HW01.ipynb', 'W09 - Array indexing, slicing and broadcasting.html', 'W04 - Lists, Dictionaries and Loops.html', 'Polygon.py', 'HW03.ipynb', 'outfile.txt', 'HW03.pdf', 'W01 - Data Science introduction.html', 'HW02.pdf', 'Practice_Examples.ipynb', 'HW01.pdf', 'W08 - Numpy, Vectors and vector operations.html', 'Fall_2020_DATA_101_Syllabus.pdf', 'practice.ipynb', 'W07 - Error handling, Functions.html', 'files', 'Elsevier-SDG-Report-2020.pdf', '.ipynb_checkpoints', 'W05 - List comprehension, Nested loops - format, range, zip, enumerate.html', 'W02 - Python introduction - operators.html', 'Notes.ipynb', '.idea', 'W03 - Variables, Strings, Comments and Spaces.html']\n",
      "['HW02.ipynb', 'lists.py', '.DS_Store', 'W06 - Conditionals - if, elif, else.html', 'HW01.ipynb', 'W09 - Array indexing, slicing and broadcasting.html', 'W04 - Lists, Dictionaries and Loops.html', 'Polygon.py', 'HW03.ipynb', 'outfile.txt', 'HW03.pdf', 'W01 - Data Science introduction.html', 'HW02.pdf', 'Practice_Examples.ipynb', 'HW01.pdf', 'W08 - Numpy, Vectors and vector operations.html', 'Fall_2020_DATA_101_Syllabus.pdf', 'practice.ipynb', 'W07 - Error handling, Functions.html', 'files', 'Elsevier-SDG-Report-2020.pdf', '.ipynb_checkpoints', 'W05 - List comprehension, Nested loops - format, range, zip, enumerate.html', 'W02 - Python introduction - operators.html', 'Notes.ipynb', '.idea', 'W03 - Variables, Strings, Comments and Spaces.html']\n"
     ]
    }
   ],
   "source": [
    "print(os.listdir())\n",
    "os.rmdir(path)\n",
    "print(os.listdir())"
   ]
  },
  {
   "cell_type": "code",
   "execution_count": 20,
   "metadata": {},
   "outputs": [
    {
     "name": "stdout",
     "output_type": "stream",
     "text": [
      "/Users/barbararocha/Google Drive - CofC/DATA_101/outfile.txt\n"
     ]
    }
   ],
   "source": [
    "import os\n",
    "for file in os.listdir(os.getcwd()):\n",
    "    if file.endswith('.txt'):\n",
    "        print(os.path.join(os.getcwd(),file))\n"
   ]
  },
  {
   "cell_type": "markdown",
   "metadata": {},
   "source": [
    "<h4> VECTORS </h4>"
   ]
  },
  {
   "cell_type": "markdown",
   "metadata": {},
   "source": [
    "vector magnitude - lenght(number os elements)\n",
    "\n",
    "vector direction - \n"
   ]
  },
  {
   "cell_type": "code",
   "execution_count": 24,
   "metadata": {},
   "outputs": [],
   "source": [
    "import numpy as np\n",
    "# array = np.array[5,5]"
   ]
  },
  {
   "cell_type": "code",
   "execution_count": null,
   "metadata": {},
   "outputs": [],
   "source": []
  }
 ],
 "metadata": {
  "kernelspec": {
   "display_name": "Python 3",
   "language": "python",
   "name": "python3"
  },
  "language_info": {
   "codemirror_mode": {
    "name": "ipython",
    "version": 3
   },
   "file_extension": ".py",
   "mimetype": "text/x-python",
   "name": "python",
   "nbconvert_exporter": "python",
   "pygments_lexer": "ipython3",
   "version": "3.8.3"
  }
 },
 "nbformat": 4,
 "nbformat_minor": 4
}
